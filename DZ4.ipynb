{
 "cells": [
  {
   "cell_type": "code",
   "execution_count": 2,
   "outputs": [],
   "source": [
    "import numpy as np\n",
    "import pandas as pd\n",
    "import random\n",
    "from kaggle_environments import evaluate\n",
    "from kaggle_environments.envs.rps.utils import get_score # импортируем функцию получения счёта"
   ],
   "metadata": {
    "collapsed": false,
    "ExecuteTime": {
     "end_time": "2024-11-15T18:09:01.657081400Z",
     "start_time": "2024-11-15T18:09:01.578946400Z"
    }
   }
  },
  {
   "cell_type": "markdown",
   "source": [
    " В нашей игре присвоим обозначения для ходов игроков:\n",
    "<ul>\n",
    "    <li><b>Камень</b> - 0</li>\n",
    "    <li><b>Бумага</b> - 1</li>\n",
    "    <li><b>Ножницы</b> - 2</li>\n",
    "</ul>"
   ],
   "metadata": {
    "collapsed": false
   }
  },
  {
   "cell_type": "markdown",
   "source": [
    "Опишем самые банальные стратегии для агентов:"
   ],
   "metadata": {
    "collapsed": false
   }
  },
  {
   "cell_type": "code",
   "execution_count": 201,
   "outputs": [],
   "source": [
    "def rock(observation, configuration):\n",
    "    return 0 # всегда ход - камень\n",
    "\n",
    "def paper(observation, configuration):\n",
    "    return 1 # всегда ход - бумага\n",
    "\n",
    "def scissors(observation, configuration):\n",
    "    return 2 # всегда ход - ножницы"
   ],
   "metadata": {
    "collapsed": false,
    "ExecuteTime": {
     "end_time": "2024-11-16T13:36:00.431066200Z",
     "start_time": "2024-11-16T13:36:00.406677700Z"
    }
   }
  },
  {
   "cell_type": "markdown",
   "source": [
    "Также реализуем, трёх игроков, которые выбирают между двумя ходами"
   ],
   "metadata": {
    "collapsed": false
   }
  },
  {
   "cell_type": "code",
   "execution_count": 202,
   "outputs": [],
   "source": [
    "def rock_paper(observation, configuration):\n",
    "    return random.choice([0,1]) # случайный ход - камень или бумага\n",
    "\n",
    "def paper_scissors(observation, configuration):\n",
    "    return random.choice([1,2])# случайный ход - бумага или ножницы\n",
    "\n",
    "def scissors_rock(observation, configuration):\n",
    "    return random.choice([0,2]) # случайный ход - ножницы или камень"
   ],
   "metadata": {
    "collapsed": false,
    "ExecuteTime": {
     "end_time": "2024-11-16T13:36:01.711574100Z",
     "start_time": "2024-11-16T13:36:01.661123500Z"
    }
   }
  },
  {
   "cell_type": "markdown",
   "source": [
    "Опишем игрока, который просто случайно делает выбор."
   ],
   "metadata": {
    "collapsed": false
   }
  },
  {
   "cell_type": "code",
   "execution_count": 203,
   "outputs": [],
   "source": [
    "def rand(observation, configuration):\n",
    "    return random.choice([0,1,2])"
   ],
   "metadata": {
    "collapsed": false,
    "ExecuteTime": {
     "end_time": "2024-11-16T13:36:03.567790200Z",
     "start_time": "2024-11-16T13:36:03.552158800Z"
    }
   }
  },
  {
   "cell_type": "markdown",
   "source": [
    "Также будет игрок, который в зависимости от попадания нормальной случайной величины в интервал от 0 до 3 будет делать ход.\n",
    "$$\\xi = N(m,\\sigma^2),$$\n",
    "где $m = 1,5$ - математическое ожидание;\n",
    "$\\sigma = \\sqrt{\\sigma^2} = 0,5$ - стандартное отклонение."
   ],
   "metadata": {
    "collapsed": false
   }
  },
  {
   "cell_type": "code",
   "execution_count": 204,
   "outputs": [],
   "source": [
    "def norm(observation, configuration):\n",
    "    x = random.normalvariate(1.5, 0.5)\n",
    "    if x < 1: # если случайное число попадает от 0 до 1, то ход - камень\n",
    "        return 0\n",
    "    elif x < 2: # если случайное число попадает от 1 до 2, то ход - бумага\n",
    "        return 1\n",
    "    else: return 2 # если случайное число попадает от 2 до 3, то ход - ножницы"
   ],
   "metadata": {
    "collapsed": false,
    "ExecuteTime": {
     "end_time": "2024-11-16T13:36:04.053958500Z",
     "start_time": "2024-11-16T13:36:04.014104900Z"
    }
   }
  },
  {
   "cell_type": "markdown",
   "source": [
    "Игрок, который в зависимости от попадания равномерной случайной величины в интервал от 0 до 3 будет делать ход.\n",
    "$$\\xi = R(a, b),$$\n",
    "где $a = 0$, $b = 3$ - границы."
   ],
   "metadata": {
    "collapsed": false
   }
  },
  {
   "cell_type": "code",
   "execution_count": 205,
   "outputs": [],
   "source": [
    "def uniform(observation, configuration):\n",
    "    x = random.uniform(0, 3)\n",
    "    if x < 1: # если случайное число попадает от 0 до 1, то ход - камень\n",
    "        return 0\n",
    "    elif x < 2: # если случайное число попадает от 1 до 2, то ход - бумага\n",
    "        return 1\n",
    "    else: return 2 # если случайное число попадает от 2 до 3, то ход - ножницы"
   ],
   "metadata": {
    "collapsed": false,
    "ExecuteTime": {
     "end_time": "2024-11-16T13:36:04.684466400Z",
     "start_time": "2024-11-16T13:36:04.653088600Z"
    }
   }
  },
  {
   "cell_type": "markdown",
   "source": [
    "Игрок, который будет поторять ход оппонента с предыдущей игры."
   ],
   "metadata": {
    "collapsed": false
   }
  },
  {
   "cell_type": "code",
   "execution_count": 206,
   "outputs": [],
   "source": [
    "def copy(observation, configuration):\n",
    "    if observation.step == 0:\n",
    "        return random.choice([0, 1, 2])\n",
    "    else: return observation.lastOpponentAction"
   ],
   "metadata": {
    "collapsed": false,
    "ExecuteTime": {
     "end_time": "2024-11-16T13:36:05.266052800Z",
     "start_time": "2024-11-16T13:36:05.253346Z"
    }
   }
  },
  {
   "cell_type": "markdown",
   "source": [
    "Если есть, игрок копирующий последнийх ход оппонента, то пусть будет игрок, который будет ставить выигрышный ход к последнему ходу оппонента."
   ],
   "metadata": {
    "collapsed": false
   }
  },
  {
   "cell_type": "code",
   "execution_count": 207,
   "outputs": [],
   "source": [
    "def opposite(observation, configuration):\n",
    "    if observation.step == 0:\n",
    "        return random.choice([0, 1, 2])\n",
    "    elif observation.lastOpponentAction == 0: # если камень, то выбирает бумагу\n",
    "        return 1\n",
    "    elif observation.lastOpponentAction == 1: # если бумага, то выбирает ножницы\n",
    "        return 2\n",
    "    else: return 0"
   ],
   "metadata": {
    "collapsed": false,
    "ExecuteTime": {
     "end_time": "2024-11-16T13:36:05.777182100Z",
     "start_time": "2024-11-16T13:36:05.765462800Z"
    }
   }
  },
  {
   "cell_type": "markdown",
   "source": [
    "Игрок, который будет выбирать наиболее частый ход соперника за предыдущие игры."
   ],
   "metadata": {
    "collapsed": false
   }
  },
  {
   "cell_type": "code",
   "execution_count": 217,
   "outputs": [],
   "source": [
    "choice_opp = {} # словарь с ходами противника\n",
    "\n",
    "def freq(observation, configuration):\n",
    "    global choice_opp # делаем глобальную переменную, так как функция будет вызываться много раз\n",
    "    if observation.step == 0:\n",
    "        choice_opp.clear()\n",
    "        return random.choice([0,1,2])\n",
    "    do = observation.lastOpponentAction\n",
    "    choice_opp[do] = choice_opp.get(do, 0) + 1\n",
    "    \"\"\"\n",
    "    Ищем количество ходов жеста с предыдущей игры, если не было то мы заводим запись в словаре, если нашли то засчитываем как очередной ход.\n",
    "    \"\"\"\n",
    "    return max(choice_opp, key=lambda x: choice_opp.get(x)) #возвращает частый ход"
   ],
   "metadata": {
    "collapsed": false,
    "ExecuteTime": {
     "end_time": "2024-11-16T13:53:44.626057300Z",
     "start_time": "2024-11-16T13:53:44.592607Z"
    }
   }
  },
  {
   "cell_type": "markdown",
   "source": [
    "Игрок, который будет противодействовать наиболее частому ходу соперника за предыдущие игры."
   ],
   "metadata": {
    "collapsed": false
   }
  },
  {
   "cell_type": "code",
   "execution_count": 221,
   "outputs": [],
   "source": [
    "choice_opp2 = {} # словарь с ходами противника\n",
    "\n",
    "def freq_opp(observation, configuration):\n",
    "    global choice_opp2 # делаем глобальную переменную, так как функция будет вызываться много раз\n",
    "    if observation.step == 0:\n",
    "        choice_opp2.clear()\n",
    "        return random.choice([0,1,2])\n",
    "    do = observation.lastOpponentAction\n",
    "    choice_opp2[do] = choice_opp2.get(do, 0) + 1\n",
    "    m = max(choice_opp, key=lambda x: choice_opp.get(x)) # наиболее частый ход\n",
    "\n",
    "    \"\"\"\n",
    "    Ставит противоположный жест наиболее частому ходу противника.\n",
    "    \"\"\"\n",
    "\n",
    "    if m == 0:\n",
    "        return 1\n",
    "    elif m == 1:\n",
    "        return 2\n",
    "    else: return 0\n"
   ],
   "metadata": {
    "collapsed": false,
    "ExecuteTime": {
     "end_time": "2024-11-16T13:58:44.287520Z",
     "start_time": "2024-11-16T13:58:44.271895900Z"
    }
   }
  },
  {
   "cell_type": "markdown",
   "source": [
    "Игрок, который будет выбирать наиболее удачный ход противника."
   ],
   "metadata": {
    "collapsed": false
   }
  },
  {
   "cell_type": "code",
   "execution_count": 222,
   "outputs": [],
   "source": [
    "choice_opp1 = {} # словарь с ходами противника\n",
    "last_choice = None #свой последний ход\n",
    "\n",
    "def luck(observation, configuration):\n",
    "    global choice_opp1, last_choice # делаем глобальную переменную, так как функция будет вызываться много раз\n",
    "    if observation.step == 0:\n",
    "        choice_opp1.clear()\n",
    "        last_choice = random.choice([0,1,2])\n",
    "    else:\n",
    "        do = observation.lastOpponentAction\n",
    "        choice_opp1[do] = choice_opp1.get(do, 0) + get_score(last_choice, observation.lastOpponentAction)[1]\n",
    "    \"\"\"\n",
    "    Ищем количество ходов жеста с предыдущей игры, если не было то мы заводим запись в словаре, если нашли то считаем счёт.\n",
    "    \"\"\"\n",
    "    print(choice_opp1)\n",
    "    return max(choice_opp1, key=lambda x: choice_opp1.get(x)) #возвращает частый ход"
   ],
   "metadata": {
    "collapsed": false,
    "ExecuteTime": {
     "end_time": "2024-11-16T13:58:47.035803500Z",
     "start_time": "2024-11-16T13:58:47.003631400Z"
    }
   }
  },
  {
   "cell_type": "code",
   "execution_count": 224,
   "outputs": [],
   "source": [
    "agents = {\n",
    "    \"rock_player\": rock,\n",
    "    \"paper_player\": paper,\n",
    "    \"scissors_player\": scissors,\n",
    "    \"rock_paper_player\": rock_paper,\n",
    "    \"paper_scissors_player\": paper_scissors,\n",
    "    \"scissors_rock_player\": scissors_rock,\n",
    "    \"random_player\": rand,\n",
    "    \"normal_player\": norm,\n",
    "    \"uniform_player\": uniform,\n",
    "    \"copy_player\": copy,\n",
    "    \"opposite_player\": opposite,\n",
    "    \"frequency_player\": freq,\n",
    "    \"frequency_opposite_player\": freq_opp,\n",
    "    \"lucky_player\": luck,\n",
    "}\n",
    "players = [\"rock_player\", \"paper_player\", \"scissors_player\", \"rock_paper_player\", \"paper_scissors_player\", \"scissors_rock_player\",  \"random_player\", \"normal_player\", \"uniform_player\", \"copy_player\", \"opposite_player\", \"frequency_player\",\"frequency_opposite_player\", \"lucky_player\"]"
   ],
   "metadata": {
    "collapsed": false,
    "ExecuteTime": {
     "end_time": "2024-11-16T14:01:46.666483Z",
     "start_time": "2024-11-16T14:01:46.634452100Z"
    }
   }
  },
  {
   "cell_type": "code",
   "execution_count": 228,
   "outputs": [
    {
     "data": {
      "text/plain": "                           rock_player  paper_player  scissors_player  \\\nrock_player                        0.0         -99.0             99.0   \npaper_player                      99.0           0.0            -99.0   \nscissors_player                  -99.0          99.0              0.0   \nrock_paper_player                 54.0         -49.0             13.0   \npaper_scissors_player              1.0          56.0            -53.0   \nscissors_rock_player             -51.0         -15.0             57.0   \nrandom_player                      4.0           9.0             -2.0   \nnormal_player                     62.0           9.0            -59.0   \nuniform_player                     3.0          -3.0            -14.0   \ncopy_player                        1.0           1.0              0.0   \nopposite_player                   99.0          99.0             99.0   \nfrequency_player                   NaN           NaN              NaN   \nfrequency_opposite_player          NaN           NaN              NaN   \nlucky_player                       NaN           NaN              NaN   \n\n                           rock_paper_player  paper_scissors_player  \\\nrock_player                            -54.0                   -1.0   \npaper_player                            49.0                  -56.0   \nscissors_player                        -13.0                   53.0   \nrock_paper_player                        0.0                  -30.0   \npaper_scissors_player                   30.0                    0.0   \nscissors_rock_player                    -8.0                    8.0   \nrandom_player                           -7.0                    3.0   \nnormal_player                           20.0                  -39.0   \nuniform_player                          -9.0                   -4.0   \ncopy_player                              1.0                    1.0   \nopposite_player                         35.0                   34.0   \nfrequency_player                         NaN                    NaN   \nfrequency_opposite_player                NaN                    NaN   \nlucky_player                             NaN                    NaN   \n\n                           scissors_rock_player  random_player  normal_player  \\\nrock_player                                51.0           -4.0          -62.0   \npaper_player                               15.0           -9.0           -9.0   \nscissors_player                           -57.0            2.0           59.0   \nrock_paper_player                           8.0            7.0          -20.0   \npaper_scissors_player                      -8.0           -3.0           39.0   \nscissors_rock_player                        0.0           -3.0           11.0   \nrandom_player                               3.0            0.0            8.0   \nnormal_player                             -11.0           -8.0            0.0   \nuniform_player                              0.0           -2.0          -14.0   \ncopy_player                                 0.0          -10.0            7.0   \nopposite_player                            25.0           -1.0           18.0   \nfrequency_player                            NaN            NaN            NaN   \nfrequency_opposite_player                   NaN            NaN            NaN   \nlucky_player                                NaN            NaN            NaN   \n\n                           uniform_player  copy_player  opposite_player  \\\nrock_player                          -3.0         -1.0            -99.0   \npaper_player                          3.0         -1.0            -99.0   \nscissors_player                      14.0          0.0            -99.0   \nrock_paper_player                     9.0         -1.0            -35.0   \npaper_scissors_player                 4.0         -1.0            -34.0   \nscissors_rock_player                  0.0          0.0            -25.0   \nrandom_player                         2.0         10.0              1.0   \nnormal_player                        14.0         -7.0            -18.0   \nuniform_player                        0.0         10.0             -5.0   \ncopy_player                         -10.0          0.0            -50.0   \nopposite_player                       5.0         50.0              0.0   \nfrequency_player                      NaN          NaN              NaN   \nfrequency_opposite_player             NaN          NaN              NaN   \nlucky_player                          NaN          NaN              NaN   \n\n                           frequency_player  frequency_opposite_player  \\\nrock_player                             1.0                        1.0   \npaper_player                            1.0                        1.0   \nscissors_player                         1.0                        1.0   \nrock_paper_player                       1.0                        1.0   \npaper_scissors_player                   1.0                        1.0   \nscissors_rock_player                    1.0                        1.0   \nrandom_player                           1.0                        1.0   \nnormal_player                           1.0                        1.0   \nuniform_player                          1.0                        1.0   \ncopy_player                             1.0                        1.0   \nopposite_player                         1.0                        1.0   \nfrequency_player                        0.0                        NaN   \nfrequency_opposite_player               NaN                        0.0   \nlucky_player                            NaN                        NaN   \n\n                           lucky_player  \nrock_player                         1.0  \npaper_player                        1.0  \nscissors_player                     1.0  \nrock_paper_player                   1.0  \npaper_scissors_player               1.0  \nscissors_rock_player                1.0  \nrandom_player                       1.0  \nnormal_player                       1.0  \nuniform_player                      1.0  \ncopy_player                         1.0  \nopposite_player                     1.0  \nfrequency_player                    1.0  \nfrequency_opposite_player           1.0  \nlucky_player                        0.0  ",
      "text/html": "<div>\n<style scoped>\n    .dataframe tbody tr th:only-of-type {\n        vertical-align: middle;\n    }\n\n    .dataframe tbody tr th {\n        vertical-align: top;\n    }\n\n    .dataframe thead th {\n        text-align: right;\n    }\n</style>\n<table border=\"1\" class=\"dataframe\">\n  <thead>\n    <tr style=\"text-align: right;\">\n      <th></th>\n      <th>rock_player</th>\n      <th>paper_player</th>\n      <th>scissors_player</th>\n      <th>rock_paper_player</th>\n      <th>paper_scissors_player</th>\n      <th>scissors_rock_player</th>\n      <th>random_player</th>\n      <th>normal_player</th>\n      <th>uniform_player</th>\n      <th>copy_player</th>\n      <th>opposite_player</th>\n      <th>frequency_player</th>\n      <th>frequency_opposite_player</th>\n      <th>lucky_player</th>\n    </tr>\n  </thead>\n  <tbody>\n    <tr>\n      <th>rock_player</th>\n      <td>0.0</td>\n      <td>-99.0</td>\n      <td>99.0</td>\n      <td>-54.0</td>\n      <td>-1.0</td>\n      <td>51.0</td>\n      <td>-4.0</td>\n      <td>-62.0</td>\n      <td>-3.0</td>\n      <td>-1.0</td>\n      <td>-99.0</td>\n      <td>1.0</td>\n      <td>1.0</td>\n      <td>1.0</td>\n    </tr>\n    <tr>\n      <th>paper_player</th>\n      <td>99.0</td>\n      <td>0.0</td>\n      <td>-99.0</td>\n      <td>49.0</td>\n      <td>-56.0</td>\n      <td>15.0</td>\n      <td>-9.0</td>\n      <td>-9.0</td>\n      <td>3.0</td>\n      <td>-1.0</td>\n      <td>-99.0</td>\n      <td>1.0</td>\n      <td>1.0</td>\n      <td>1.0</td>\n    </tr>\n    <tr>\n      <th>scissors_player</th>\n      <td>-99.0</td>\n      <td>99.0</td>\n      <td>0.0</td>\n      <td>-13.0</td>\n      <td>53.0</td>\n      <td>-57.0</td>\n      <td>2.0</td>\n      <td>59.0</td>\n      <td>14.0</td>\n      <td>0.0</td>\n      <td>-99.0</td>\n      <td>1.0</td>\n      <td>1.0</td>\n      <td>1.0</td>\n    </tr>\n    <tr>\n      <th>rock_paper_player</th>\n      <td>54.0</td>\n      <td>-49.0</td>\n      <td>13.0</td>\n      <td>0.0</td>\n      <td>-30.0</td>\n      <td>8.0</td>\n      <td>7.0</td>\n      <td>-20.0</td>\n      <td>9.0</td>\n      <td>-1.0</td>\n      <td>-35.0</td>\n      <td>1.0</td>\n      <td>1.0</td>\n      <td>1.0</td>\n    </tr>\n    <tr>\n      <th>paper_scissors_player</th>\n      <td>1.0</td>\n      <td>56.0</td>\n      <td>-53.0</td>\n      <td>30.0</td>\n      <td>0.0</td>\n      <td>-8.0</td>\n      <td>-3.0</td>\n      <td>39.0</td>\n      <td>4.0</td>\n      <td>-1.0</td>\n      <td>-34.0</td>\n      <td>1.0</td>\n      <td>1.0</td>\n      <td>1.0</td>\n    </tr>\n    <tr>\n      <th>scissors_rock_player</th>\n      <td>-51.0</td>\n      <td>-15.0</td>\n      <td>57.0</td>\n      <td>-8.0</td>\n      <td>8.0</td>\n      <td>0.0</td>\n      <td>-3.0</td>\n      <td>11.0</td>\n      <td>0.0</td>\n      <td>0.0</td>\n      <td>-25.0</td>\n      <td>1.0</td>\n      <td>1.0</td>\n      <td>1.0</td>\n    </tr>\n    <tr>\n      <th>random_player</th>\n      <td>4.0</td>\n      <td>9.0</td>\n      <td>-2.0</td>\n      <td>-7.0</td>\n      <td>3.0</td>\n      <td>3.0</td>\n      <td>0.0</td>\n      <td>8.0</td>\n      <td>2.0</td>\n      <td>10.0</td>\n      <td>1.0</td>\n      <td>1.0</td>\n      <td>1.0</td>\n      <td>1.0</td>\n    </tr>\n    <tr>\n      <th>normal_player</th>\n      <td>62.0</td>\n      <td>9.0</td>\n      <td>-59.0</td>\n      <td>20.0</td>\n      <td>-39.0</td>\n      <td>-11.0</td>\n      <td>-8.0</td>\n      <td>0.0</td>\n      <td>14.0</td>\n      <td>-7.0</td>\n      <td>-18.0</td>\n      <td>1.0</td>\n      <td>1.0</td>\n      <td>1.0</td>\n    </tr>\n    <tr>\n      <th>uniform_player</th>\n      <td>3.0</td>\n      <td>-3.0</td>\n      <td>-14.0</td>\n      <td>-9.0</td>\n      <td>-4.0</td>\n      <td>0.0</td>\n      <td>-2.0</td>\n      <td>-14.0</td>\n      <td>0.0</td>\n      <td>10.0</td>\n      <td>-5.0</td>\n      <td>1.0</td>\n      <td>1.0</td>\n      <td>1.0</td>\n    </tr>\n    <tr>\n      <th>copy_player</th>\n      <td>1.0</td>\n      <td>1.0</td>\n      <td>0.0</td>\n      <td>1.0</td>\n      <td>1.0</td>\n      <td>0.0</td>\n      <td>-10.0</td>\n      <td>7.0</td>\n      <td>-10.0</td>\n      <td>0.0</td>\n      <td>-50.0</td>\n      <td>1.0</td>\n      <td>1.0</td>\n      <td>1.0</td>\n    </tr>\n    <tr>\n      <th>opposite_player</th>\n      <td>99.0</td>\n      <td>99.0</td>\n      <td>99.0</td>\n      <td>35.0</td>\n      <td>34.0</td>\n      <td>25.0</td>\n      <td>-1.0</td>\n      <td>18.0</td>\n      <td>5.0</td>\n      <td>50.0</td>\n      <td>0.0</td>\n      <td>1.0</td>\n      <td>1.0</td>\n      <td>1.0</td>\n    </tr>\n    <tr>\n      <th>frequency_player</th>\n      <td>NaN</td>\n      <td>NaN</td>\n      <td>NaN</td>\n      <td>NaN</td>\n      <td>NaN</td>\n      <td>NaN</td>\n      <td>NaN</td>\n      <td>NaN</td>\n      <td>NaN</td>\n      <td>NaN</td>\n      <td>NaN</td>\n      <td>0.0</td>\n      <td>NaN</td>\n      <td>1.0</td>\n    </tr>\n    <tr>\n      <th>frequency_opposite_player</th>\n      <td>NaN</td>\n      <td>NaN</td>\n      <td>NaN</td>\n      <td>NaN</td>\n      <td>NaN</td>\n      <td>NaN</td>\n      <td>NaN</td>\n      <td>NaN</td>\n      <td>NaN</td>\n      <td>NaN</td>\n      <td>NaN</td>\n      <td>NaN</td>\n      <td>0.0</td>\n      <td>1.0</td>\n    </tr>\n    <tr>\n      <th>lucky_player</th>\n      <td>NaN</td>\n      <td>NaN</td>\n      <td>NaN</td>\n      <td>NaN</td>\n      <td>NaN</td>\n      <td>NaN</td>\n      <td>NaN</td>\n      <td>NaN</td>\n      <td>NaN</td>\n      <td>NaN</td>\n      <td>NaN</td>\n      <td>NaN</td>\n      <td>NaN</td>\n      <td>0.0</td>\n    </tr>\n  </tbody>\n</table>\n</div>"
     },
     "execution_count": 228,
     "metadata": {},
     "output_type": "execute_result"
    }
   ],
   "source": [
    "n = len(players)\n",
    "game_statistics = np.zeros((n, n)) # таблица счёта\n",
    "for i in players:\n",
    "    for j in players:\n",
    "        if i != j:\n",
    "            result = evaluate(\n",
    "                \"rps\", # игра\n",
    "                agents=[agents[i], agents[j]], # игроки\n",
    "                configuration={\"episodeSteps\": 100, # количество игр\n",
    "                               \"tieRewardThreshold\": 1} # число очков, с которого начинается победа\n",
    "            )\n",
    "            game_statistics[players.index(i)][players.index(j)] = result[0][0]\n",
    "            game_statistics[players.index(j)][players.index(i)] = result[0][1]\n",
    "\n",
    "game_statistics = pd.DataFrame(game_statistics, index=players, columns=players)\n",
    "\"\"\"\"\"\n",
    "Здесь смотреть противостояния нужно по строкам.\n",
    "\"\"\"\"\"\n",
    "game_statistics.head(14)"
   ],
   "metadata": {
    "collapsed": false,
    "ExecuteTime": {
     "end_time": "2024-11-16T16:36:06.822802600Z",
     "start_time": "2024-11-16T16:35:17.026371300Z"
    }
   }
  },
  {
   "cell_type": "markdown",
   "source": [
    "Определим победителя."
   ],
   "metadata": {
    "collapsed": false
   }
  },
  {
   "cell_type": "code",
   "execution_count": 290,
   "outputs": [
    {
     "name": "stdout",
     "output_type": "stream",
     "text": [
      "Победителем становится lucky_player\n"
     ]
    }
   ],
   "source": [
    "table_winners_f = np.zeros((n, n))\n",
    "table_winners_f = pd.DataFrame(table_winners_f, index=players, columns=players)\n",
    "for i in range(len(game_statistics)):\n",
    "    for j in range(len(game_statistics.columns)):\n",
    "        table_winners_f.iloc[i,j] = (1 if game_statistics.iloc[i,j] > 0 else 0) # здесь мы заменяем количество выигранных партий на победу или поражение\n",
    "table_winners = table_winners_f.sum(axis=0) # считаем количество побед каждого игрока и сохраняем статистику побед\n",
    "print(\"Победителем становится {}\".format(table_winners.sort_values(axis=0, ascending=0).index[0])) # выводим победителя"
   ],
   "metadata": {
    "collapsed": false,
    "ExecuteTime": {
     "end_time": "2024-11-16T17:17:47.167473700Z",
     "start_time": "2024-11-16T17:17:47.136087700Z"
    }
   }
  }
 ],
 "metadata": {
  "kernelspec": {
   "display_name": "Python 3",
   "language": "python",
   "name": "python3"
  },
  "language_info": {
   "codemirror_mode": {
    "name": "ipython",
    "version": 2
   },
   "file_extension": ".py",
   "mimetype": "text/x-python",
   "name": "python",
   "nbconvert_exporter": "python",
   "pygments_lexer": "ipython2",
   "version": "2.7.6"
  }
 },
 "nbformat": 4,
 "nbformat_minor": 0
}
